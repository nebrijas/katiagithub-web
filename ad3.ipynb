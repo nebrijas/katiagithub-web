Modulos internos
Estos son los módulos que utilizaremos:

time : Este módulo proporciona varias funciones relacionadas con el tiempo.
csv : (Valores separados por comas) este módulo implementa clases para leer y escribir datos tabulares en formato CSV (Uno de los formatos favoritos de Excel).
re : Este módulo proporciona operaciones de coincidencia de expresiones regulares similares a las que se encuentran en el lenguaje Perl.
os : Proporciona una forma portátil de usar la funcionalidad dependiente del sistema operativo.
##Librerías externas
Para este web scraping también implementaremos las siguientes librerías externas:

solicitudes : permite enviar solicitudes HTTP utilizando Python.
bs4 :Hace referencia a Beautiful Soup, una biblioteca que facilita extraer información de páginas web. Es una herramienta de web scraping que nos ayuda a limpiar y analizar los documentos que hemos sacado de la web.
pandas :es una herramienta rápida, potente y fácil de usar para el análisis y manejo de datos de código abierto
termcolor : es un módulo de Python para el formato ANSII Color para la salida en el terminal.Permite imprimir texto coloreado y fondo.{
 "cells": [
  {
   "cell_type": "markdown",
   "id": "e01348d3",
   "metadata": {},
   "source": []
  }
 ],
 "metadata": {
  "kernelspec": {
   "display_name": "Python 3 (ipykernel)",
   "language": "python",
   "name": "python3"
  },
  "language_info": {
   "codemirror_mode": {
    "name": "ipython",
    "version": 3
   },
   "file_extension": ".py",
   "mimetype": "text/x-python",
   "name": "python",
   "nbconvert_exporter": "python",
   "pygments_lexer": "ipython3",
   "version": "3.9.12"
  }
 },
 "nbformat": 4,
 "nbformat_minor": 5
}

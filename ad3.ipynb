{
 "cells": [
  {
   "cell_type": "markdown",
   "id": "76c1d7bb",
   "metadata": {},
   "source": [
    "## Actividad 3"
   ]
  },
  {
   "cell_type": "markdown",
   "id": "48e9db36",
   "metadata": {},
   "source": [
    "Esta es la actividad dirigida 3 que consiste en hacer un ejercicio de programación literaria aprovechando el código que hemos usado en programación con Python donde realizamos web scraping. A continuación pongo el código fuente."
   ]
  },
  {
   "cell_type": "markdown",
   "id": "36e41851",
   "metadata": {},
   "source": [
    "## Código fuente"
   ]
  },
  {
   "cell_type": "code",
   "execution_count": null,
   "id": "50e8ff42",
   "metadata": {},
   "outputs": [],
   "source": [
    "import requests\n",
    "import time\n",
    "import csv\n",
    "import re\n",
    "from bs4 import BeautifulSoup\n",
    "import os\n",
    "import pandas as pd\n",
    "from termcolor import colored\n",
    "\n",
    "resultados = []\n",
    "\n",
    "req = requests.get(\"https://resultados.elpais.com\")\n",
    "# Si el estatus code no es 200 no se puede leer la página\n",
    "if (req.status_code != 200):\n",
    " raise Exception(\"No se puede hacer Web Scraping en\"+ URL)\n",
    "soup = BeautifulSoup(req.text, 'html.parser')\n",
    "\n",
    "tags = soup.findAll(\"h2\")\n",
    "\n",
    "for h2 in tags:\n",
    "    print(h2.text)\n",
    "    resultados.append(h2.text)\n",
    "\n",
    "req2 = requests.get(\"https://elpais.com/internacional\")\n",
    "# Si el estatus code no es 200 no se puede leer la página\n",
    "if (req.status_code != 200):\n",
    " raise Exception(\"No se puede hacer Web Scraping en\"+ URL)\n",
    "soup2 = BeautifulSoup(req2.text, 'html.parser')\n",
    "\n",
    "tags = soup2.findAll(\"h2\")\n",
    "\n",
    "for h2 in tags:\n",
    "    print(h2.text)\n",
    "    resultados.append(h2.text)\n",
    "\n",
    "req3 = requests.get(\"https://elpais.com/opinion\")\n",
    "# Si el estatus code no es 200 no se puede leer la página\n",
    "if (req.status_code != 200):\n",
    " raise Exception(\"No se puede hacer Web Scraping en\"+ URL)\n",
    "soup3 = BeautifulSoup(req3.text, 'html.parser')\n",
    "\n",
    "tags = soup3.findAll(\"h2\")\n",
    "\n",
    "for h2 in tags:\n",
    "    print(h2.text)\n",
    "    resultados.append(h2.text)\n",
    "\n",
    "req4 = requests.get(\"https://elpais.com/espana/\")\n",
    "# Si el estatus code no es 200 no se puede leer la página\n",
    "if (req.status_code != 200):\n",
    " raise Exception(\"No se puede hacer Web Scraping en\"+ URL)\n",
    "soup4 = BeautifulSoup(req4.text, 'html.parser')\n",
    "\n",
    "tags = soup4.findAll(\"h2\")\n",
    "\n",
    "for h2 in tags:\n",
    "    print(h2.text)\n",
    "    resultados.append(h2.text)\n",
    "\n",
    "req5 = requests.get(\"https://elpais.com/economia/\")\n",
    "# Si el estatus code no es 200 no se puede leer la página\n",
    "if (req.status_code != 200):\n",
    " raise Exception(\"No se puede hacer Web Scraping en\"+ URL)\n",
    "soup5 = BeautifulSoup(req5.text, 'html.parser')\n",
    "\n",
    "tags = soup5.findAll(\"h2\")\n",
    "\n",
    "for h2 in tags:\n",
    "    print(h2.text)\n",
    "    resultados.append(h2.text)\n",
    "\n",
    "req6 = requests.get(\"https://elpais.com/sociedad/\")\n",
    "# Si el estatus code no es 200 no se puede leer la página\n",
    "if (req.status_code != 200):\n",
    " raise Exception(\"No se puede hacer Web Scraping en\"+ URL)\n",
    "soup6 = BeautifulSoup(req6.text, 'html.parser')\n",
    "\n",
    "tags = soup6.findAll(\"h2\")\n",
    "\n",
    "for h2 in tags:\n",
    "    print(h2.text)\n",
    "    resultados.append(h2.text)\n",
    "\n",
    "req7 = requests.get(\"https://elpais.com/educacion/\")\n",
    "# Si el estatus code no es 200 no se puede leer la página\n",
    "if (req.status_code != 200):\n",
    " raise Exception(\"No se puede hacer Web Scraping en\"+ URL)\n",
    "soup7 = BeautifulSoup(req7.text, 'html.parser')\n",
    "\n",
    "tags = soup7.findAll(\"h2\")\n",
    "\n",
    "for h2 in tags:\n",
    "    print(h2.text)\n",
    "    resultados.append(h2.text)\n",
    "\n",
    "req8 = requests.get(\"https://elpais.com/clima-y-medio-ambiente/\")\n",
    "# Si el estatus code no es 200 no se puede leer la página\n",
    "if (req.status_code != 200):\n",
    " raise Exception(\"No se puede hacer Web Scraping en\"+ URL)\n",
    "soup8 = BeautifulSoup(req8.text, 'html.parser')\n",
    "\n",
    "tags = soup8.findAll(\"h2\")\n",
    "\n",
    "for h2 in tags:\n",
    "    print(h2.text)\n",
    "    resultados.append(h2.text)\n",
    "\n",
    "req9 = requests.get(\"https://elpais.com/ciencia/\")\n",
    "# Si el estatus code no es 200 no se puede leer la página\n",
    "if (req.status_code != 200):\n",
    " raise Exception(\"No se puede hacer Web Scraping en\"+ URL)\n",
    "soup9 = BeautifulSoup(req9.text, 'html.parser')\n",
    "\n",
    "tags = soup9.findAll(\"h2\")\n",
    "\n",
    "for h2 in tags:\n",
    "    print(h2.text)\n",
    "    resultados.append(h2.text)\n",
    "\n",
    "req10 = requests.get(\"https://elpais.com/cultura/\")\n",
    "# Si el estatus code no es 200 no se puede leer la página\n",
    "if (req.status_code != 200):\n",
    " raise Exception(\"No se puede hacer Web Scraping en\"+ URL)\n",
    "soup10 = BeautifulSoup(req10.text, 'html.parser')\n",
    "\n",
    "tags = soup10.findAll(\"h2\")\n",
    "\n",
    "for h2 in tags:\n",
    "    print(h2.text)\n",
    "    resultados.append(h2.text)\n",
    "\n",
    "req11 = requests.get(\"https://elpais.com/babelia/\")\n",
    "# Si el estatus code no es 200 no se puede leer la página\n",
    "if (req.status_code != 200):\n",
    " raise Exception(\"No se puede hacer Web Scraping en\"+ URL)\n",
    "soup11 = BeautifulSoup(req11.text, 'html.parser')\n",
    "\n",
    "tags = soup11.findAll(\"h2\")\n",
    "\n",
    "for h2 in tags:\n",
    "    print(h2.text)\n",
    "    resultados.append(h2.text)\n",
    "\n",
    "req12 = requests.get(\"https://elpais.com/deportes/\")\n",
    "# Si el estatus code no es 200 no se puede leer la página\n",
    "if (req.status_code != 200):\n",
    " raise Exception(\"No se puede hacer Web Scraping en\"+ URL)\n",
    "soup12 = BeautifulSoup(req12.text, 'html.parser')\n",
    "\n",
    "tags = soup12.findAll(\"h2\")\n",
    "\n",
    "for h2 in tags:\n",
    "    print(h2.text)\n",
    "    resultados.append(h2.text)\n",
    "\n",
    "req13 = requests.get(\"https://elpais.com/tecnologia/\")\n",
    "# Si el estatus code no es 200 no se puede leer la página\n",
    "if (req.status_code != 200):\n",
    " raise Exception(\"No se puede hacer Web Scraping en\"+ URL)\n",
    "soup13 = BeautifulSoup(req13.text, 'html.parser')\n",
    "\n",
    "tags = soup13.findAll(\"h2\")\n",
    "\n",
    "for h2 in tags:\n",
    "    print(h2.text)\n",
    "    resultados.append(h2.text)\n",
    "\n",
    "req14 = requests.get(\"https://elpais.com/tecnologia/\")\n",
    "# Si el estatus code no es 200 no se puede leer la página\n",
    "if (req.status_code != 200):\n",
    " raise Exception(\"No se puede hacer Web Scraping en\"+ URL)\n",
    "soup14 = BeautifulSoup(req14.text, 'html.parser')\n",
    "\n",
    "tags = soup14.findAll(\"h2\")\n",
    "\n",
    "for h2 in tags:\n",
    "    print(h2.text)\n",
    "    resultados.append(h2.text)\n",
    "\n",
    "req15 = requests.get(\"https://elpais.com/gente/\")\n",
    "# Si el estatus code no es 200 no se puede leer la página\n",
    "if (req.status_code != 200):\n",
    " raise Exception(\"No se puede hacer Web Scraping en\"+ URL)\n",
    "soup15 = BeautifulSoup(req15.text, 'html.parser')\n",
    "\n",
    "tags = soup15.findAll(\"h2\")\n",
    "\n",
    "for h2 in tags:\n",
    "    print(h2.text)\n",
    "    resultados.append(h2.text)\n",
    "\n",
    "B\n",
    "\n",
    "req17 = requests.get(\"https://elpais.com/eps/\")\n",
    "# Si el estatus code no es 200 no se puede leer la página\n",
    "if (req.status_code != 200):\n",
    " raise Exception(\"No se puede hacer Web Scraping en\"+ URL)\n",
    "soup17 = BeautifulSoup(req17.text, 'html.parser')\n",
    "\n",
    "tags = soup17.findAll(\"h2\")\n",
    "\n",
    "for h2 in tags:\n",
    "    print(h2.text)\n",
    "    resultados.append(h2.text)\n",
    "\n",
    "\n",
    "os.system(\"clear\")\n",
    "\n",
    "print(colored(\"A continuación se muestran los titulares de las páginas principales del diario El País que contienen las siguientes palabras:\", 'blue', attrs=['bold']))\n",
    "print(colored(\"Feminismo\", 'green', attrs=['bold']))\n",
    "\n",
    "str_match = [s for s in resultados if \"feminismo\" in s]\n",
    "print(\"\\n\".join(str_match))\n",
    "\n",
    "print(colored(\"Igualdad\", 'green', attrs=['bold']))\n",
    "\n",
    "str_match = [s for s in resultados if \"igualdad\" in s]\n",
    "print(\"\\n\".join(str_match))\n",
    "\n",
    "print(colored(\"Mujeres\", 'green', attrs=['bold']))\n",
    "\n",
    "str_match = [s for s in resultados if \"mujeres\" in s]\n",
    "print(\"\\n\".join(str_match))\n",
    "\n",
    "print(colored(\"Mujer\", 'green', attrs=['bold']))\n",
    "\n",
    "str_match = [s for s in resultados if \"mujer\" in s]\n",
    "print(\"\\n\".join(str_match))\n",
    "\n",
    "print(colored(\"Brecha salarial\", 'green', attrs=['bold']))\n",
    "\n",
    "str_match = [s for s in resultados if \"brecha salarial\" in s]\n",
    "print(\"\\n\".join(str_match))\n",
    "\n",
    "print(colored(\"Machismo\", 'green', attrs=['bold']))\n",
    "\n",
    "str_match = [s for s in resultados if \"machismo\" in s]\n",
    "print(\"\\n\".join(str_match))\n",
    "\n",
    "print(colored(\"Violencia\", 'green', attrs=['bold']))\n",
    "\n",
    "str_match = [s for s in resultados if \"violencia\" in s]\n",
    "print(\"\\n\".join(str_match))\n",
    "\n",
    "print(colored(\"Maltrato\", 'green', attrs=['bold']))\n",
    "\n",
    "str_match = [s for s in resultados if \"maltrato\" in s]\n",
    "print(\"\\n\".join(str_match))\n",
    "\n",
    "print(colored(\"Homicidio\", 'green', attrs=['bold']))\n",
    "\n",
    "str_match = [s for s in resultados if \"homicidio\" in s]\n",
    "print(\"\\n\".join(str_match))\n",
    "\n",
    "print(colored(\"Género\", 'green', attrs=['bold']))\n",
    "\n",
    "str_match = [s for s in resultados if \"género\" in s]\n",
    "print(\"\\n\".join(str_match))\n",
    "\n",
    "print(colored(\"Asesinato\", 'green', attrs=['bold']))\n",
    "\n",
    "str_match = [s for s in resultados if \"asesinato\" in s]\n",
    "print(\"\\n\".join(str_match))\n",
    "\n",
    "print(colored(\"Sexo\", 'green', attrs=['bold']))\n",
    "\n",
    "str_match = [s for s in resultados if \"sexo\" in s]\n",
    "print(\"\\n\".join(str_match))\n"
   ]
  },
  {
   "cell_type": "markdown",
   "id": "5960d9e5",
   "metadata": {},
   "source": [
    "## Instalamos librerías para realizar el web scraping "
   ]
  },
  {
   "cell_type": "code",
   "execution_count": 3,
   "id": "d5e1b81e",
   "metadata": {},
   "outputs": [
    {
     "name": "stdout",
     "output_type": "stream",
     "text": [
      "Requirement already satisfied: requests in c:\\users\\katia\\anaconda3\\lib\\site-packages (2.27.1)\n",
      "Requirement already satisfied: bs4 in c:\\users\\katia\\anaconda3\\lib\\site-packages (0.0.1)\n",
      "Requirement already satisfied: pandas in c:\\users\\katia\\anaconda3\\lib\\site-packages (1.4.2)\n",
      "Requirement already satisfied: termcolor in c:\\users\\katia\\anaconda3\\lib\\site-packages (1.1.0)\n",
      "Requirement already satisfied: certifi>=2017.4.17 in c:\\users\\katia\\anaconda3\\lib\\site-packages (from requests) (2021.10.8)\n",
      "Requirement already satisfied: charset-normalizer~=2.0.0 in c:\\users\\katia\\anaconda3\\lib\\site-packages (from requests) (2.0.4)\n",
      "Requirement already satisfied: urllib3<1.27,>=1.21.1 in c:\\users\\katia\\anaconda3\\lib\\site-packages (from requests) (1.26.9)\n",
      "Requirement already satisfied: idna<4,>=2.5 in c:\\users\\katia\\anaconda3\\lib\\site-packages (from requests) (3.3)\n",
      "Requirement already satisfied: beautifulsoup4 in c:\\users\\katia\\anaconda3\\lib\\site-packages (from bs4) (4.11.1)\n",
      "Requirement already satisfied: pytz>=2020.1 in c:\\users\\katia\\anaconda3\\lib\\site-packages (from pandas) (2021.3)\n",
      "Requirement already satisfied: python-dateutil>=2.8.1 in c:\\users\\katia\\anaconda3\\lib\\site-packages (from pandas) (2.8.2)\n",
      "Requirement already satisfied: numpy>=1.18.5 in c:\\users\\katia\\anaconda3\\lib\\site-packages (from pandas) (1.21.5)\n",
      "Requirement already satisfied: six>=1.5 in c:\\users\\katia\\anaconda3\\lib\\site-packages (from python-dateutil>=2.8.1->pandas) (1.16.0)\n",
      "Requirement already satisfied: soupsieve>1.2 in c:\\users\\katia\\anaconda3\\lib\\site-packages (from beautifulsoup4->bs4) (2.3.1)\n",
      "Note: you may need to restart the kernel to use updated packages.\n"
     ]
    }
   ],
   "source": [
    "pip install requests bs4 pandas termcolor"
   ]
  },
  {
   "cell_type": "markdown",
   "id": "5d06f5b0",
   "metadata": {},
   "source": [
    "## Librerías\n",
    "Hay algunas librerías que vienen con Python y otras no, estas librerías requieren instalarlas, otras no."
   ]
  },
  {
   "cell_type": "markdown",
   "id": "6c047347",
   "metadata": {},
   "source": [
    "## Librerías internas"
   ]
  },
  {
   "cell_type": "markdown",
   "id": "1070b97d",
   "metadata": {},
   "source": [
    " - [csv](https://docs.python.org/3/library/csv.html) : Es un archivo con el que podemos almacenar datos con una forma tabular estructurada de (fila,columna).\n",
    " - [re](https://docs.python.org/3/library/re.html ) :Este módulo llamado re, tiene funciones que permiten trabajar con expresiones regulares y cadenas.\n",
    " - [time](https://docs.python.org/es/3/library/time.html) : Con time podemos utilizar sus funciones manipular la fecha y hora.\n",
    " - [os](https://docs.python.org/3/library/os.html) : Os muestra en Python las funcionalidades del sistema operativo.\n",
    " "
   ]
  },
  {
   "cell_type": "markdown",
   "id": "e57356f1",
   "metadata": {},
   "source": [
    "## Librerías externas\n",
    "-  [termcolor](https://pypi.org/project/termcolor/) : Es una biblioteca que sirve para imprimir mensajes de colores en el terminal.\n",
    "- [bs4](https://es.acervolima.com/python-beautifulsoup-encontrar-todas-las-clases/) :Beautiful Soup (bs4) es una biblioteca de la cual podemos obtener datos  en formato HTML y XML\n",
    "- [requests](https://cosasdedevs.com/posts/web-scraping-con-requests-y-beautifulsoup-en-python/) : Se usa para hacer solicitudes y peticiones a la página de la que extraeremos datos.\n",
    "- [pandas](https://pypi.org/project/pandas/) Es una herramienta de análisis de datos de código, de lectura rápida en el lenguaje de programación de Python."
   ]
  },
  {
   "cell_type": "markdown",
   "id": "e12fe667",
   "metadata": {},
   "source": [
    "## Importación de librerías para que los comandos correspondan"
   ]
  },
  {
   "cell_type": "code",
   "execution_count": 5,
   "id": "eaae4b9c",
   "metadata": {},
   "outputs": [],
   "source": [
    "import requests\n",
    "import time\n",
    "import csv\n",
    "import re\n",
    "from bs4 import BeautifulSoup\n",
    "import os\n",
    "import pandas as pd\n",
    "from termcolor import colored"
   ]
  },
  {
   "cell_type": "markdown",
   "id": "aff0a560",
   "metadata": {},
   "source": [
    "## Objetos"
   ]
  },
  {
   "cell_type": "markdown",
   "id": "691aecdc",
   "metadata": {},
   "source": [
    "Hay que crear un objeto demominado resultados, esto sirvá para añadan los resultados del scrapping.\n"
   ]
  },
  {
   "cell_type": "code",
   "execution_count": 6,
   "id": "6c9ec2e2",
   "metadata": {},
   "outputs": [],
   "source": [
    "resultados = []"
   ]
  },
  {
   "cell_type": "markdown",
   "id": "ff605e4b",
   "metadata": {},
   "source": [
    "Type() es para organizar información de datos en forma de lista.\n"
   ]
  },
  {
   "cell_type": "code",
   "execution_count": 7,
   "id": "20541dae",
   "metadata": {},
   "outputs": [
    {
     "data": {
      "text/plain": [
       "list"
      ]
     },
     "execution_count": 7,
     "metadata": {},
     "output_type": "execute_result"
    }
   ],
   "source": [
    "type (resultados)"
   ]
  },
  {
   "cell_type": "markdown",
   "id": "55f42e71",
   "metadata": {},
   "source": [
    "## División de los códigos para web scrapping"
   ]
  },
  {
   "cell_type": "markdown",
   "id": "9103077e",
   "metadata": {},
   "source": [
    "## Impresión de titulares para el periódico EL PAÍS"
   ]
  },
  {
   "cell_type": "markdown",
   "id": "210e25ca",
   "metadata": {},
   "source": [
    "La variable para solicitar información de la URL será: req=requests.get (\"https://resultados.elpais.com\")\n"
   ]
  },
  {
   "cell_type": "code",
   "execution_count": 8,
   "id": "a39da4d4",
   "metadata": {},
   "outputs": [],
   "source": [
    "req = requests.get(\"https://resultados.elpais.com\")"
   ]
  },
  {
   "cell_type": "markdown",
   "id": "29e37417",
   "metadata": {},
   "source": [
    "Después escribimos la función type() y esa es la respuesta de request."
   ]
  },
  {
   "cell_type": "code",
   "execution_count": 9,
   "id": "c03c43ca",
   "metadata": {},
   "outputs": [
    {
     "data": {
      "text/plain": [
       "requests.models.Response"
      ]
     },
     "execution_count": 9,
     "metadata": {},
     "output_type": "execute_result"
    }
   ],
   "source": [
    "type(req)"
   ]
  },
  {
   "cell_type": "markdown",
   "id": "ef5da00b",
   "metadata": {},
   "source": [
    "If complementa a: if(req.status_code != 200), que es un código de respuesta que muestra un estado satisfactorio a la solicitud. Luego se extrae el texto HTML del sitio web con BeautifulSoup(req.text, 'html.parser').\n",
    "Con findAll se guardará las etiquetas, los tags, que es el titular de la web y finalmente con resultados.append(h2.text) se irán añadiendo todos dentro de las lista de titulares que hemos ido seleccionando."
   ]
  },
  {
   "cell_type": "code",
   "execution_count": 12,
   "id": "f2215664",
   "metadata": {},
   "outputs": [],
   "source": [
    "# Si el estatus code no es 200 no se puede leer la página\n",
    "if (req.status_code != 200):\n",
    " raise Exception(\"No se puede hacer Web Scraping en\"+ URL)\n",
    "soup = BeautifulSoup(req.text, 'html.parser')"
   ]
  },
  {
   "cell_type": "code",
   "execution_count": 13,
   "id": "77a0e584",
   "metadata": {},
   "outputs": [
    {
     "name": "stdout",
     "output_type": "stream",
     "text": [
      "Bruselas pide restringir desde este verano el consumo de gas ante la crisis energética\n",
      "Draghi dimite como primer ministro y aboca a Italia a una nueva crisis política\n",
      "Macron prepara un plan de ahorro energético ante una Rusia que usa el gas como “arma de guerra”\n",
      "Los nuevos impuestos, en el resto de Europa: cada vez más habituales sobre las eléctricas; muy escasos sobre la banca\n",
      "Gestionar el agua\n",
      "La importancia de una memoria compartida\n",
      "Las lecciones de Jimena\n",
      "Yo, ‘mindundi’\n",
      "El encanto estival de la eterna Euskadi élfica\n",
      "Sciammarella\n",
      "El PP anuncia que se abstendrá en la votación del segundo decreto anticrisis del Gobierno\n",
      "Feijóo provoca una foto con víctimas del terrorismo en pleno debate de la ley de memoria para sugerir su desacuerdo\n",
      "Todas las Españas posibles en 138 propuestas\n",
      "Los universitarios miden tres centímetros más que los que solo tienen estudios de primaria\n",
      "Sonia Livingstone: “Si envolvemos a nuestros hijos en algodón digital, no aprenderán a sobrellevar los problemas”\n",
      "El abogado de la UE da la razón a España frente a Bélgica y abre la puerta a la entrega de Puigdemont \n",
      "Vídeo | Qué esperar de la reunión entre Sánchez y Aragonés\n",
      "La Eurocámara solicita a Marlaska que comparezca por la tragedia de Melilla\n",
      "El tope a la actualización de los alquileres ahorra hasta 1.000 euros a los inquilinos\n",
      "La primera semana de primarias en el Partido Conservador británico confirma el liderazgo de Sunak\n",
      "El presidente de Sri Lanka renuncia al cargo tras su huida a Singapur\n",
      "La subida de precios dispara las protestas en África\n",
      "La oleada de incendios en Portugal deja ya un saldo de 813 fuegos, un fallecido y 135 heridos\n",
      "Las llamas expulsaron a los veraneantes de Monsagro\n",
      "Peña Nieto pone en venta su vivienda de lujo en Madrid tras conocer que la Fiscalía le investigaba\n",
      "¿Sabe cómo de rico es? Averigue su posición en la escalera del dinero\n",
      "La Fiscalía pide seis años de prisión y 21 de inhabilitación para Borràs por prevaricación y falsedad documental\n",
      "La Audiencia Nacional impulsa una séptima investigación contra la excúpula de ETA\n",
      "Aumentan a tres los detenidos por la muerte de la mujer arrojada a una alcantarilla en Málaga\n",
      "El Bono Joven Cultural se pone en marcha a finales de julio  \n",
      "La paradoja de la obesidad: ¿Por qué si los indicadores empeoran los españoles dicen sentirse más sanos?\n",
      "Armie Hammer, de estrella de Hollywood y acusaciones caníbales a vender casas en las islas Caimán\n",
      "Bill Gates donará toda su fortuna a la fundación filantrópica que creó\n",
      "Cómo aliviar el dolor de piernas por el calor y cuándo hay que preocuparse por las varices\n",
      "Dónde comprar los 10 mejores helados artesanos en España\n",
      "La ola de calor se recrudece con cinco avisos rojos en Galicia, Andalucía, Extremadura y las dos Castillas\n",
      "Así se huye del calor en Madrid: casi 10 grados de diferencia entre Callao y Madrid Río\n",
      "El rincón más fresco de Barcelona: el paraje de Collserola con hasta 10 grados menos que el Raval\n",
      "“La clave contra el racismo es la empatía”\n",
      "Las infinitas posibilidades de un tablero de ajedrez\n",
      "“No hay pensamiento sin tiempo para pensar”\n",
      "Descubierto un autorretrato de Van Gogh oculto en la parte de atrás de un lienzo fechado en 1885\n",
      "La segunda muerte de Vicente Aleixandre, la segunda ruina de Velintonia\n",
      "¿Necesita mi cuerpo tener relaciones sexuales?\n",
      "Descubierto el principio matemático detrás de los escutoides, las formas geométricas de moda\n",
      "El 20% de las playas españolas quiere ser “libre de humo” pero solo en una minoría está prohibido fumar\n",
      "Vídeo | El antídoto de Fito contra los momentos de bajón\n",
      "Ucrania y Rusia logran los primeros avances en la negociación para desbloquear el cereal ucranio\n",
      "Un tribunal de Manhattan condena a un exinformático de la CIA por la filtración de documentos a WikiLeaks\n",
      "Daniel Ortega acelera la implantación del régimen de partido único en Nicaragua \n",
      "Biden reafirma en Israel el “compromiso inquebrantable” con su seguridad\n",
      "Amancio Ortega compra un rascacielos de viviendas en Nueva York por 500 millones\n",
      "Pidcock triunfa en Alpe d’Huez y Vingegaard afianza el liderato en el Tour de Francia\n",
      "Xavi gana el pulso por Dembélé \n",
      "Damaris Egurrola, la futbolista que se fue dos veces de España\n",
      "El Mundial de Atletismo vuelve a su esencia\n",
      "Saint Andrews es el golf\n",
      "Gustavo Gimeno será el nuevo director musical del Teatro Real en 2025\n",
      "Muere el periodista Eugenio Scalfari, fundador del diario italiano ‘La Repubblica’, a los 98 años\n",
      "Donna Leon: “Los trabajadores de un almacén de Amazon son los esclavos de hoy”\n",
      "Del miedo y la rabia al arrepentimiento, la maternidad en imágenes\n",
      "Ahora el enemigo es ‘woke’: cómo la concienciación social se convirtió en objeto de burla\n",
      "No hacerlo todo juntos: claves para que agosto no se convierta en el mes de los divorcios\n",
      "Kate Moss vuelve a ser musa de Zara: la modelo llena de glamur la última campaña de la firma\n",
      "“¿Qué tal si te ahorcas?”: el misterio sin resolver de ‘The Girl from Plainville’\n",
      "Aurelio Morales, el hombre que dejó una estrella Michelin para tomar impulso y ganar tres\n",
      "“Papá, mamá, ¿cuándo llegamos?”: seis sencillos consejos para viajar con niños \n",
      "Un servicio médico en cualquier lugar y momento\n",
      "Jóvenes repobladores: comprar una casa en un pueblo de menos de 5.000 habitantes y recibir una ayuda del Gobierno\n",
      "“Tomo seis pastillas al día para aguantar”: así es trabajar limpiando hoteles masificados en verano\n",
      "Carme Elías: “Me siento más ligera que nunca, como si la vida me hubiera preparado para este momento”\n",
      "La escalada vertiginosa de notas en Bachillerato: los sobresalientes de los que llegan a Selectividad se doblan en seis años\n",
      "Vídeo | Qué hay detrás de las imágenes del telescopio ‘James Webb’\n",
      "Matanza de Uvalde: un vídeo revela la irrupción del asesino y la inacción de la policía \n",
      "Un piloto aficionado logra un aterrizaje de emergencia en una carretera de Carolina del Norte \n",
      "Los homicidios en Chile escalan casi un 30% en el primer semestre de 2022\n",
      "Alemania autoriza la puesta en marcha de sus centrales de carbón ya jubiladas para ahorrar gas \n",
      "Europol sitúa el extremismo violento de derechas entre las principales amenazas a la seguridad en la UE\n",
      "El PP cede a Vox un puesto en la Mesa del Parlamento andaluz y espera a cambio “generosidad”\n",
      "Aitana Mas mantendrá a los cargos imputados en el caso de Mónica Oltra y apela a la presunción de inocencia\n",
      "Obituario | Tomás S. Vives y la construcción jurídica de la democracia\n",
      "La Audiencia Nacional abre juicio oral a Iberdrola por manipular el precio de la luz\n",
      "Los supermercados Dia venden un 8,5% más en el primer semestre, con más peso de las marcas propias\n",
      "Gobierno y grandes caseros discrepan sobre la manera de sumar 30.000 alquileres sociales\n",
      "El Constitucional amplía el acceso a la justicia gratuita a personas discapacitadas por un accidente\n",
      "‘Un nuevo modelo de residencias para las próximas generaciones de personas mayores: que sean como casas’, por Gustavo García\n",
      "Kevin Spacey se declara “no culpable” de los delitos de abusos sexuales que se le imputan en el Reino Unido\n",
      "Becas para ricos mezcladas con aborto\n",
      "Estudiar en el extranjero, una inversión que mejora la empleabilidad y las competencias interpersonales\n",
      "Gabriela Ossenbach, experta en manuales escolares: “Con los libros de texto se puede crear fácilmente alarma social, pero no está justificada”\n",
      "Estos serán los tutores legales del mar Menor encargados de su representación y gobernanza\n",
      "Absuelto un conductor que se dio a la fuga tras arrollar a un ciclista: “Te sientes atropellado por el coche y la justicia”\n",
      "El Constitucional anula parte de la ley de Castilla y León que permitía cazar al lobo \n",
      "Alberto Ascherio: “Sin el virus de la enfermedad del beso, el riesgo de esclerosis múltiple es casi cero”\n",
      "¿Dónde están los objetos que ha fotografiado el ‘James Webb’?\n",
      "Rosaly Lopes, la persona que más volcanes ha descubierto: “Puede haber vida en Titán” \n",
      "Japón, Taiwán y China: una lección democrática de los chips\n",
      "Google News está de vuelta en España: qué es y cómo exprimirlo al máximo\n",
      "Jorge Stolfi: “Soy catedrático de informática. Como mis colegas, sé que la tecnología de bitcoin es basura”\n",
      "El Real Madrid de baloncesto cierra su primer fichaje: Dzanan Musa\n",
      "España postula las sedes para el Mundial de fútbol de 2030\n",
      "Los penalti-córners de Australia condenan a España en el Mundial de hockey hierba\n",
      "Un crimen entre plantas y aristócratas cierra la saga policiaca de José María Guelbenzu\n",
      "El cine del Sahel lucha por que se escuche su voz\n",
      "El Liceo cierra la temporada con la ‘Norma’ de Bellini envuelta en más de mil crucifijos\n",
      "Los audios y la España que no tuitea\n",
      "“¿Qué harías tú?”: de cómo Kim Wexler y Jimmy McGill encarnaron el amor no romántico en televisión’, por Laura Fernández\n",
      "‘El caso Hartung’ o la calidad de las series nórdicas’, por Ángel S. Harguindey\n",
      "Edurne cancela su gira por un problema de salud\n",
      "Khloé Kardashian espera su segundo hijo con su expareja, Tristan Thompson, por vientre de alquiler\n",
      "Louboutin: “Llevo 30 años haciendo zapatos de tacón para hombres. La moda sin género no es nueva para mí”\n",
      "La bala perdida que encontró a Mirlande: “Apenas tenía un hilo de vida cuando llegó”\n",
      "La importancia de aprender en la propia lengua en un país que tiene 12 oficiales\n",
      "El multigalardonado director de fotografía que consiguió trabajo en la cola de un cine \n",
      "Andaluz no: ‘Andalûh’\n",
      "«Me cansé de señores mirando como si no hubiese más pechos en el mundo»: así es hoy la batalla del toples en España\n",
      "De Olivia de Havilland a Raquel Welch: el biquini estuvo solo permitido a las grandes divas\n",
      "Róisín Murphy: “Los gays entienden la opresión de las mujeres. No se detienen ante nada”\n",
      "Rebecca Makkai: “Solo los extremistas creen que no se puede escribir desde otros puntos de vista”\n",
      "Ocho pueblos bonitos y fresquitos en España para escapar de la ola de calor\n",
      "24 horas en la austriaca Bregenz, el lugar donde ver una ópera flotante y comer un ‘schnitzel’\n",
      "Maneras de vivir después de muerto\n",
      "Perder el tiempo, ganar la vida: un elogio de la distracción\n",
      "El banquero más poderoso del mundo: “Las cosas pueden ir mucho peor”\n",
      "Vecinos al borde de un ataque de nervios: morosos que usan la piscina, trasteros que son despensas y ruidos diarios\n",
      "Granito y nación: el papel de los monumentos a los caídos por Dios y por España \n",
      "Cómo el cine transformó a las diosas mitológicas en superheroínas\n",
      "Florentino Pérez recibe su nuevo coche oficial\n",
      "‘Renting’ o ‘leasing’: ¿cuál es la mejor opción para conductores particulares?\n",
      "Judías con chermoula, aceitunas y picatostes\n",
      "Cómo hacer fideuá como si fueras de Gandía\n",
      "Guélfand reina en León por 2º año seguido, a los 54, tras más de cuatro horas trepidantes\n",
      "Videoanálisis | Una gran oportunidad perdida para sacar el ajedrez a la calle\n",
      "Cada día nuevos crucigramas, sudokus y sopas de letras\n",
      "Renueva colchón con estos de Ikea que ahora tienen 50 euros de rebaja\n",
      "Probamos las mejores planchas para pelo corto: la mejor, la más barata\n",
      "Nueve sartenes sin teflón ni tóxicos para renovar tu cocina con hasta un 38% de rebaja\n",
      "Los mejores aires acondicionados portátiles para sobrellevar el calor\n",
      "Este bañador de hombre con secado rápido es el más vendido en Amazon \n",
      "Caos aeroportuario en Europa: estos son los destinos con más retrasos y cancelaciones\n",
      "La Comunidad de Madrid quiere cobrar 400 euros a una mujer por el tiempo que dejó la residencia para irse con sus hijas\n",
      "Un diputado pide la palabra, Batet le da tres minutos y nadie vio venir lo que iba a pasar\n",
      "Juguetes más rotos que nunca\n",
      "Lorazepam y circo. De Twitch a Ferreras, entretener para un mundo feliz\n",
      "El Señor de los Anillos: Los Anillos de Poder ilumina la Tierra Media con su épico segundo tráiler\n"
     ]
    }
   ],
   "source": [
    "tags = soup.findAll(\"h2\")\n",
    " \n",
    "for h2 in tags:\n",
    "    print(h2.text)\n",
    "    resultados.append(h2.text)"
   ]
  },
  {
   "cell_type": "markdown",
   "id": "f0a17271",
   "metadata": {},
   "source": [
    "## Realizamos los mismos pasos para los siguientes titulares"
   ]
  },
  {
   "cell_type": "markdown",
   "id": "1b351338",
   "metadata": {},
   "source": [
    "## Impresión de titulares de la sección de Opinión de EL PAÍS"
   ]
  },
  {
   "cell_type": "code",
   "execution_count": 14,
   "id": "ce170b29",
   "metadata": {},
   "outputs": [
    {
     "name": "stdout",
     "output_type": "stream",
     "text": [
      "Mario Draghi dimite como primer ministro y aboca a Italia a una nueva crisis política \n",
      "La primera semana de primarias en el Partido Conservador británico confirma el liderazgo de Sunak\n",
      "El presidente de Sri Lanka renuncia al cargo tras su huida a Singapur\n",
      "Pactos con el diablo\n",
      "Lo que el Indo-Pacífico le debe a Abe\n",
      "La guerra de Ucrania durará\n",
      "Goodbye, Boris?\n",
      "Shinzo Abe transformó y transformará Japón\n",
      "Macron prepara un plan de ahorro energético ante una Rusia que usa el gas como “arma de guerra”\n",
      "El irresistible ascenso de Penny Mordaunt en las primarias del Partido Conservador del Reino Unido\n",
      "La subida de precios dispara las protestas en África\n",
      "La oleada de incendios en Portugal deja ya un saldo de 813 fuegos, un fallecido y 135 heridos\n",
      "Biden reafirma en Israel el “compromiso inquebrantable” con su seguridad\n",
      "Ucrania y Rusia logran los primeros avances en la negociación para desbloquear el cereal ucranio\n",
      "Bruselas reclama a Hungría y Polonia pasos decididos para cumplir con los valores europeos \n",
      "Seis candidatos se disputarán el liderazgo conservador en el Reino Unido con el exministro Sunak como favorito\n",
      "Alemania autoriza la puesta en marcha de sus centrales de carbón ya jubiladas para ahorrar gas \n",
      "El Gobierno de Sri Lanka impone el estado de emergencia en la isla tras la huida del presidente\n",
      "El campo argentino se alza contra el Gobierno de Alberto Fernández\n",
      "El campo argentino se alza contra el Gobierno de Alberto Fernández\n",
      "John Bolton, exasesor de Trump, admite que ayudó a organizar golpes de Estado en otros países\n",
      "La muerte de un turista en un accidente empaña la relación entre Argentina y Bolivia\n",
      "Matanza de Uvalde: un vídeo revela la irrupción del asesino y la inacción de la policía \n",
      "El comité del 6 de enero prueba que Trump planeó días antes la marcha al Capitolio \n"
     ]
    }
   ],
   "source": [
    "req2 = requests.get(\"https://elpais.com/internacional\")\n",
    "# Si el estatus code no es 200 no se puede leer la página\n",
    "if (req.status_code != 200):\n",
    " raise Exception(\"No se puede hacer Web Scraping en\"+ URL)\n",
    "soup2 = BeautifulSoup(req2.text, 'html.parser')\n",
    "\n",
    "tags = soup2.findAll(\"h2\")\n",
    "\n",
    "for h2 in tags:\n",
    "    print(h2.text)\n",
    "    resultados.append(h2.text)"
   ]
  },
  {
   "cell_type": "markdown",
   "id": "25a1b65b",
   "metadata": {},
   "source": [
    "## Impresión de titulares de la sección de España en el EL PAÍS"
   ]
  },
  {
   "cell_type": "code",
   "execution_count": 15,
   "id": "5ffa0c29",
   "metadata": {},
   "outputs": [
    {
     "name": "stdout",
     "output_type": "stream",
     "text": [
      "El abogado de la UE da la razón a España frente a Belgica y abre la puerta a la entrega de Puigdemont\n",
      "¿Y ahora qué? Plazos, condiciones y escenarios del futuro judicial de Puigdemont\n",
      "Todas las Españas posibles en 138 propuestas\n",
      "Ante la crisis, ¿gestionas o lideras?\n",
      "El almirante Cervera y el honor de España\n",
      "El Gran Retroceso\n",
      "Santa Bárbara y la cultura de la defensa\n",
      "¿Es posible disentir de esta retórica belicista?\n",
      "El PSOE da de plazo al Poder Judicial hasta el 13 de septiembre para renovar el Constitucional\n",
      "Sánchez logra apoyos a su plan fiscal pero Podemos y otros socios piden más\n",
      "La Comisión Europea avisa de que el bloqueo del Poder Judicial empieza a afectar al funcionamiento de la justicia\n",
      "Feijóo provoca una foto con víctimas del terrorismo en pleno debate de la ley de memoria para sugerir su desacuerdo\n",
      "La Audiencia Nacional impulsa una séptima investigación contra la excúpula de ETA\n",
      "Un tribunal ordena investigar a dos guardias civiles por supuesta complicidad con un confidente condenado por narcotráfico\n",
      "Aumentan a tres los detenidos por la muerte de la mujer arrojada a una alcantarilla en Málaga\n",
      "El PP cede a Vox un puesto en la Mesa del Parlamento andaluz y espera a cambio “generosidad”\n",
      "El incendio de la comarca de Las Hurdes se reactiva en una zona “crítica”\n",
      "La Eurocámara solicita a Marlaska que comparezca por la tragedia de Melilla\n",
      "Un organismo marroquí culpa a las autoridades españolas de no socorrer a los migrantes muertos en Melilla\n",
      "Un paraíso en el que avistar más de 20 especies de cetáceos\n",
      "El secreto de Fuerteventura se hace viral: la ‘playa de las palomitas’\n",
      "Un vino para triunfar entre los mileniales\n",
      "Artesanía y cultura que conquista a las ‘influencers’\n",
      "Más allá de la capital. El triunfo de la vida rural madrileña\n"
     ]
    }
   ],
   "source": [
    "req4 = requests.get(\"https://elpais.com/espana/\")\n",
    "# Si el estatus code no es 200 no se puede leer la página\n",
    "if (req.status_code != 200):\n",
    " raise Exception(\"No se puede hacer Web Scraping en\"+ URL)\n",
    "soup4 = BeautifulSoup(req4.text, 'html.parser')\n",
    "\n",
    "tags = soup4.findAll(\"h2\")\n",
    "\n",
    "for h2 in tags:\n",
    "    print(h2.text)\n",
    "    resultados.append(h2.text)"
   ]
  },
  {
   "cell_type": "markdown",
   "id": "41c75303",
   "metadata": {},
   "source": [
    "## Impresión de titulares de la sección de economía de EL PAÍS"
   ]
  },
  {
   "cell_type": "code",
   "execution_count": 18,
   "id": "941cbdb9",
   "metadata": {},
   "outputs": [
    {
     "name": "stdout",
     "output_type": "stream",
     "text": [
      "Bruselas pide restringir desde este verano el consumo de gas ante la crisis energética \n",
      "Bruselas eleva al 8,1% la previsión de inflación para España en 2022, pero mantiene la estimación de PIB en el 4%\n",
      "El tope a la actualización del alquiler ahorra hasta 1.000 euros a los inquilinos\n",
      "Amancio Ortega compra un rascacielos de viviendas en Nueva York por 500 millones\n",
      "Respuestas urgentes para proteger a los latinoamericanos de la crisis mundial de los precios de los alimentos\n",
      "Paridad inquietante\n",
      "El Supremo, contra los consumidores\n",
      "Las Bolsas y la ‘Quinta’ de Chaikovski\n",
      "Empresas grandes y sueldos diferentes\n",
      "Los nuevos impuestos, en el resto de Europa: cada vez más habituales sobre las energéticas; muy escasos sobre la banca\n",
      "BBVA alerta de una moderada caída de la actividad a final de año\n",
      "El Gobierno prohibirá a la banca y las energéticas que repercutan los impuestos extraordinarios a los ciudadanos \n",
      "Los supermercados Dia venden un 8,5% más en el primer semestre, con más peso de las marcas propias\n",
      "Ketonico o cómo hacer negocio con la dieta keto\n",
      "El sector de la cerveza aumentó sus ventas un 9% en 2021, pero se mantiene por debajo del nivel prepandemia\n",
      "El banquero de inversión que ha lanzado un comparador de residencias de mayores con el que factura 2,5 millones de euros\n",
      "Ifema Madrid recupera las cifras prepandemia \n",
      "El teletrabajo tras la pandemia\n",
      "La inflación de Estados Unidos se descontrola, escala hasta un nuevo récord del 9,1% y mete presión a la Fed\n",
      "El INE confirma el peor dato de inflación en 37 años tras una subida de los carburantes del 40%\n",
      "Jamie Dimon, el banquero más poderoso del mundo: “Los problemas económicos no son pasajeros. Las cosas pueden ir mucho peor”\n",
      "Ezentis se asoma al precipicio\n",
      "Vecinos al borde de un ataque de nervios: morosos que usan la piscina, trasteros que son despensas y ruidos diarios\n",
      "Caso Laso: ¿Me pueden echar tras sufrir un infarto?\n",
      "Remite el riesgo de estanflación\n",
      "Caos aeroportuario en Europa: estos son los destinos con más retrasos y cancelaciones\n",
      "El efecto Letizia (e hijas) en las marcas de moda españolas\n",
      "Cellnex reactiva su estrategia de crecimiento tras el adiós a Deutsche\n",
      "Los grandes analistas ya disparan la inflación media de 2022 por encima del 8%\n",
      "El préstamo pedido por un matrimonio sólo lo paga el cónyuge que lo utilizó\n",
      "No se puede desheredar a un familiar con el que no se tiene relación, según el Supremo\n",
      "Líos en la piscina comunitaria: normas y sentencias para un chapuzón seguro\n",
      "Estudiar en el extranjero, una inversión que mejora la empleabilidad y las competencias interpersonales\n",
      "Música que transforma vidas y esboza futuros\n",
      "El futuro probable de una sociedad insostenible\n",
      "La hora del bienestar corporativo\n",
      "Cancerberos del bienestar de la empresa\n",
      "Cómo garantizar la seguridad en un mundo de amenazas híbridas\n",
      "¿Cuáles son los dilemas éticos del uso de la inteligencia artificial?\n",
      "Las aventuras de un par de calcetines que dan empleo a todo un pueblo\n",
      "Cultura financiera como punto de partida para volver a empezar\n",
      "¿Puede convertirse España en una de las potencias logísticas del futuro?\n",
      "Por qué digitalizar una pyme aporta más empleo\n",
      "‘Coopetir’: la actitud DFactory\n",
      "Así serán las ciudades de la (nueva) última milla\n",
      "Cinco errores habituales al digitalizar un negocio \n",
      "PERTE Agroalimentario: ¿cómo acceder a los fondos europeos?\n",
      "Fondos soberanos: ¿Cómo funcionan las cajas fuertes de los estados más ricos?\n",
      "¿Crisis de deuda mundial a la vista?\n",
      "El método Muñoz para triunfar en cada reto que se propone\n",
      "Gloria Ramos, cuando el afán de superación acaba en la alfombra roja \n",
      "Ocho ‘startups’ innovadoras con nombre propio\n",
      "Hotmart y su plataforma 360 para creadores de contenidos\n"
     ]
    }
   ],
   "source": [
    "req5 = requests.get(\"https://elpais.com/economia/\")\n",
    "# Si el estatus code no es 200 no se puede leer la página\n",
    "if (req.status_code != 200):\n",
    " raise Exception(\"No se puede hacer Web Scraping en\"+ URL)\n",
    "soup5 = BeautifulSoup(req5.text, 'html.parser')\n",
    "\n",
    "tags = soup5.findAll(\"h2\")\n",
    "\n",
    "for h2 in tags:\n",
    "    print(h2.text)\n",
    "    resultados.append(h2.text)"
   ]
  },
  {
   "cell_type": "markdown",
   "id": "a6129167",
   "metadata": {},
   "source": [
    "## Impresión de titulares de la sección sociedad de EL PAÍS"
   ]
  },
  {
   "cell_type": "code",
   "execution_count": 19,
   "id": "383c3d26",
   "metadata": {},
   "outputs": [
    {
     "name": "stdout",
     "output_type": "stream",
     "text": [
      "El 20% de las playas españolas quieren ser “libres de humos”, pero solo en una minoría está prohibido fumar\n",
      "Estos serán los tutores legales del mar Menor encargados de su representación y gobernanza\n",
      "Un nuevo modelo de residencias para las próximas generaciones de personas mayores: que sean como casas\n",
      "Un nuevo modelo de residencias para las próximas generaciones de personas mayores: que sean como casas\n",
      "Becas para ricos mezcladas con aborto\n",
      "Educación híbrida: de la emergencia a la transformación \n",
      "Jóvenes atrapados en el efecto cicatriz\n",
      "Un campus privado de Santander fracasa en su intento de frenar la criba de calidad universitaria\n",
      "Kevin Spacey se declara “no culpable” de los delitos de abusos sexuales que se le imputan en el Reino Unido\n",
      "El Constitucional amplía las posibilidades de acceder a la justicia gratuita a personas discapacitadas por un accidente\n",
      "El Constitucional anula parte de la ley de Castilla y León que permitía cazar al lobo \n",
      "Un sevillano que solicitó la eutanasia recurre al suicidio ante la falta de protocolos claros de la Junta de Andalucía\n",
      "Las becas de Ayuso hacen saltar por los aires los tensos juegos de alianzas y equilibrios en la enseñanza privada de Madrid\n",
      "Las claves de una ola de calor que desafía todos los récords de intensidad, extensión y duración\n",
      "Los sanfermines de este año registran su primera denuncia por violación\n",
      "Pamplona sale a la calle contra la violación denunciada el sábado en San Fermín\n",
      "Hong Kong impondrá un brazalete electrónico para controlar las cuarentenas en casa de positivos de coronavirus\n",
      "El Tribunal Supremo avala el indulto parcial de Juana Rivas\n",
      "Residuos para mover el mundo\n",
      "Se buscan profesionales en economía circular\n",
      "¿Por qué hablar de VIH en el Orgullo y no en los sanfermines?\n",
      "Mitos, falsedades, bulos y realidades sobre el VIH 40 años después\n",
      "Qué son las evidencias científicas y por qué están revolucionando la educación\n",
      "Munic, el joven redimido por el trap\n",
      "¿Cuándo unos kilos de más empiezan a ser un problema serio?\n",
      "Interactivo | Los 14 cambios en los aeropuertos españoles que no ves y que ya están ocurriendo\n",
      "Encontrar empleo pese a los obstáculos. Por dónde empezar la búsqueda\n",
      "La fórmula de Carboneros para evitar el éxodo rural: trabajar cuidando a los vecinos \n",
      "Consejos y cuidados para el primer verano con un gatito o un perrito\n",
      "¿Qué tienen en común perros y gatos cuando son cachorros?\n",
      "La guía definitiva para alimentarnos mejor (y cuidar nuestra salud y la del planeta)\n",
      "El metro como refugio. De los andenes de Madrid en 1936 a los de Kiev en 2022\n",
      "La salud mental de los refugiados: cómo abrirse para cerrar las heridas\n",
      "Yogures con menos azúcar, paso firme hacia la alimentación infantil del futuro\n",
      "Conectada con el mercado laboral y tecnológica: así es la universidad del presente\n",
      "Así es la formación más abierta y flexible, a prueba de crisis\n"
     ]
    }
   ],
   "source": [
    "req6 = requests.get(\"https://elpais.com/sociedad/\")\n",
    "# Si el estatus code no es 200 no se puede leer la página\n",
    "if (req.status_code != 200):\n",
    " raise Exception(\"No se puede hacer Web Scraping en\"+ URL)\n",
    "soup6 = BeautifulSoup(req6.text, 'html.parser')\n",
    "\n",
    "tags = soup6.findAll(\"h2\")\n",
    "\n",
    "for h2 in tags:\n",
    "    print(h2.text)\n",
    "    resultados.append(h2.text)"
   ]
  },
  {
   "cell_type": "markdown",
   "id": "88bd1b99",
   "metadata": {},
   "source": [
    "## Impresión de titulares para la sección educación de EL PAÍS"
   ]
  },
  {
   "cell_type": "code",
   "execution_count": 20,
   "id": "b4065889",
   "metadata": {},
   "outputs": [
    {
     "name": "stdout",
     "output_type": "stream",
     "text": [
      "Un campus privado de Santander fracasa en su intento de frenar la criba de calidad universitaria\n",
      "Becas para ricos mezcladas con aborto\n",
      "Las becas de Ayuso hacen saltar por los aires los tensos juegos de alianzas y equilibrios en la enseñanza privada de Madrid\n",
      "La importancia de aprender en la propia lengua en un país que tiene 12 oficiales\n",
      "Estudiar en el extranjero, una inversión que mejora la empleabilidad y las competencias interpersonales\n",
      "El deporte ya no es solo deporte: el sector atrae todo tipo de perfiles profesionales\n",
      "Educación híbrida: de la emergencia a la transformación \n",
      "Gabriela Ossenbach, experta en manuales escolares: “Con los libros de texto se puede crear fácilmente alarma social, pero no está justificada”\n",
      "La libertad guiando (dicen) a la escuela\n",
      "Intento de rebelión de los directores de primaria de Cataluña por los nuevos horarios de septiembre\n",
      "La escalada vertiginosa de notas en Bachillerato: los sobresalientes de los que llegan a Selectividad se doblan en seis años\n",
      "Sin currículos\n",
      "La escuela concertada ante las desigualdades: el debate pendiente\n",
      "La equidad frente a las políticas educativas de privatización en Andalucía\n",
      "No hay lunes al sol en la Universidad\n",
      "El nuevo sistema para evaluar los conocimientos digitales de los profesores valdrá en toda España\n",
      "Ofrecer comedor gratis en todos los colegios públicos es “alcanzable y urgente”: costaría 1.664 millones al año, según la ONG Educo  \n",
      "Una fórmula para que la escuela pública compita mejor con la concertada\n",
      "La pérdida de alumnos por el descenso de la natalidad está afectando con más fuerza a la escuela pública que a la concertada\n",
      "La escalada vertiginosa de notas en Bachillerato: los sobresalientes de los que llegan a Selectividad se doblan en seis años\n",
      "El caso de Georgia, en EE UU: becar sin importar la renta agranda la desigualdad\n",
      "El techo de cristal del grado medio de FP: candidatos demasiado preparados se quedan con los puestos\n",
      "La implantación del nuevo Bachillerato general fracasa pese a su demanda potencial: “Creímos que lo pedirían seis alumnos y lo han hecho 27”\n",
      "Toni Solano, director de instituto: “Veo mal a los niños, necesitan muchísima ayuda”\n",
      "Ayuso se apunta ahora el tanto de la bajada de tasas universitarias, pese a que las llevó a los tribunales para no reducirlas\n",
      "Una historia en la que caben Alaska, García Lorca, Suárez y Popper: la Universidad Internacional Menéndez Pelayo cumple 90 años \n",
      "Subirats reinterpreta la ley de Universidades: freno a la precariedad, facilidades para los alumnos extranjeros y ciencia abierta\n",
      "Las universitarias desertan del grado de Matemáticas ahora que tiene pleno empleo. ¿Por qué?\n",
      "“La clave contra el racismo es la empatía”\n",
      "Las infinitas posibilidades de un tablero de ajedrez\n",
      "“No hay pensamiento sin tiempo para pensar”\n"
     ]
    }
   ],
   "source": [
    "req7 = requests.get(\"https://elpais.com/educacion/\")\n",
    "# Si el estatus code no es 200 no se puede leer la página\n",
    "if (req.status_code != 200):\n",
    " raise Exception(\"No se puede hacer Web Scraping en\"+ URL)\n",
    "soup7 = BeautifulSoup(req7.text, 'html.parser')\n",
    "\n",
    "tags = soup7.findAll(\"h2\")\n",
    "\n",
    "for h2 in tags:\n",
    "    print(h2.text)\n",
    "    resultados.append(h2.text)"
   ]
  },
  {
   "cell_type": "markdown",
   "id": "9d606a95",
   "metadata": {},
   "source": [
    "## Impresión de la sección de titulares de medio ambiente para EL PAÍS"
   ]
  },
  {
   "cell_type": "code",
   "execution_count": 21,
   "id": "ce6ac400",
   "metadata": {},
   "outputs": [
    {
     "name": "stdout",
     "output_type": "stream",
     "text": [
      "Estos serán los tutores legales del mar Menor encargados de su representación y gobernanza\n",
      "Alemania autoriza la puesta en marcha de sus centrales de carbón ya jubiladas para ahorrar gas \n",
      "El Constitucional anula parte de la ley de Castilla y León que permitía cazar al lobo \n",
      "Las claves de una ola de calor que desafía todos los récords de intensidad, extensión y duración\n",
      "Absuelto un conductor que se dio a la fuga tras arrollar a un ciclista: “Te sientes atropellado por el coche y la justicia”\n",
      "El incendio en la comarca cacereña de Las Hurdes sigue sin control tras el desalojo de 400 personas\n",
      "La ola de calor alcanza su cenit con avisos rojos en Andalucía y Extremadura por 44° y en Galicia por 42°\n",
      "Juan Carlos Blanco: “Ahora es casi imposible encontrar un cuento sobre un lobo malo”\n",
      "Si convence a un tercio de sus vecinos puede poner placas solares en la azotea: “El autoconsumo colectivo es imparable”\n",
      "El Papa urge a los jóvenes a comer menos carne “para salvar el medio ambiente”\n",
      "Segunda ola calor del verano: al menos cuatro días con máximas de hasta 46° y noches tórridas a más de 25°\n",
      "Un plan de retirada  \n",
      "Crisis energética y precios del carbono\n",
      "La lección del martín pescador para afrontar la crisis ecológica\n",
      "Estocolmo+50: mirar atrás para tomar impulso\n",
      "Ríos imposibles: las 171.000 barreras que rompen el curso de agua en España\n",
      "La UE abraza las renovables para romper la dependencia de Rusia\n",
      "La lucha en un pueblo de Teruel para salvar su última montaña\n",
      "¿Qué aire respiran los niños de Madrid y Barcelona? En el 46% de los colegios se supera la contaminación permitida\n",
      "“La clave contra el racismo es la empatía”\n",
      "Las infinitas posibilidades de un tablero de ajedrez\n",
      "“No hay pensamiento sin tiempo para pensar”\n"
     ]
    }
   ],
   "source": [
    "req8 = requests.get(\"https://elpais.com/clima-y-medio-ambiente/\")\n",
    "# Si el estatus code no es 200 no se puede leer la página\n",
    "if (req.status_code != 200):\n",
    " raise Exception(\"No se puede hacer Web Scraping en\"+ URL)\n",
    "soup8 = BeautifulSoup(req8.text, 'html.parser')\n",
    "\n",
    "tags = soup8.findAll(\"h2\")\n",
    "\n",
    "for h2 in tags:\n",
    "    print(h2.text)\n",
    "    resultados.append(h2.text)"
   ]
  },
  {
   "cell_type": "markdown",
   "id": "7d9cb251",
   "metadata": {},
   "source": [
    "## Impresión de la sección de titulares de Ciencia de EL PAÍS"
   ]
  },
  {
   "cell_type": "code",
   "execution_count": 22,
   "id": "4fd63dfd",
   "metadata": {},
   "outputs": [
    {
     "name": "stdout",
     "output_type": "stream",
     "text": [
      "Los universitarios miden tres centímetros más que los que solo tienen estudios de primaria\n",
      "Con el pasado por delante desde la sierra de Atapuerca\n",
      "Descubierto el principio matemático detrás de los escutoides, las formas geométricas de moda\n",
      "Planetas brumosos y galaxias ultradifusas: el telescopio ‘James Webb’ comienza a responder preguntas fantásticas\n",
      "¿Dónde están los objetos que ha fotografiado el ‘James Webb’?\n",
      "Las nuevas imágenes del telescopio ‘James Webb’ muestran planetas gigantes, estrellas agonizantes y galaxias chocando a altísima velocidad\n",
      "El telescopio ‘James Webb’ desvela miles de galaxias en el universo profundo, en su primera imagen a todo color\n",
      "Alberto Ascherio, médico: “Si no tienes el virus de la enfermedad del beso, tu riesgo de desarrollar esclerosis múltiple es prácticamente cero”\n",
      "Óscar Marín, neurocientífico: “Variando pequeñas piezas de la corteza cerebral se generan capacidades de superhéroe”\n",
      "La ingeniera que enseña a nuestro cuerpo a autorrepararse: “Hemos regenerado piel, cartílagos y vasos sanguíneos, pero todavía tenemos que hacer más”\n",
      "Los Premios SEIO-Fundación BBVA 2022 reconocen cinco contribuciones españolas de alto impacto en la ciencia de datos\n",
      "El tabú de la menopausia: “Hay vergüenza, preocupa ser identificadas como viejas o incapaces”\n",
      "El ‘James Webb’ se prepara para su gran hito: las primeras imágenes\n",
      "Mar Castellanos, neuróloga: “El ictus afecta cada vez más a personas en edad laboral. Las enfermedades cardiovasculares son una epidemia”\n",
      "¿Es la consciencia una ilusión intrascendente?\n",
      "Óvulos que se agotan y declive del esperma: todo lo que ignoramos sobre fertilidad hasta el momento de querer hijos\n",
      "Planetas brumosos y galaxias ultradifusas: el telescopio ‘James Webb’ comienza a responder preguntas fantásticas\n",
      "Las mentes humanas detrás de las mentes artificiales\n",
      "Matemáticas para describir los remolinos, los taxis del océano\n",
      "Reaparece la tesis de María Wonenburger, la pionera matemática española que permaneció décadas en el olvido\n",
      "Técnicas criptográficas que se fundamentan en lo impredecible\n",
      "Alrededor de la mesa\n",
      "Fracciones egipcias\n",
      "El problema del huerto\n",
      "Con el pasado por delante desde la sierra de Atapuerca\n",
      "La cola vestigial, el apéndice oculto del hombre que venció a Napoleón en Waterloo\n",
      "Molinos y gigantes, adelantos tecnológicos y el síndrome bicicleta\n",
      "El síndrome del hombre lobo y la realidad lógica de su fábula\n",
      "La locura como juego; más allá del Quijote y de las novelas de Pérez Galdós\n",
      "¿Son mejores las hormonas bioidénticas?\n",
      "¿Qué surgió antes, el ARN o el ADN?\n",
      "¿Por qué se sabe que los núcleos de la Tierra rotan?\n",
      "¿Qué son los mini reactores nucleares?\n",
      "Invitados indeseables por Navidad: el muérdago y otras plagas que evitar durante las fiestas\n",
      "Las ‘apps’ nutricionales o cómo comer bien no debería depender de uno mismo\n",
      "Malnutrición invisible: el impacto de la pobreza en la salud infantil\n",
      "El óxido de etileno, la sustancia cancerígena que ha obligado a retirar miles de alimentos en la UE\n",
      "Que no te líen con los ingredientes: aceites y grasas de mala calidad nutricional\n"
     ]
    }
   ],
   "source": [
    "req9 = requests.get(\"https://elpais.com/ciencia/\")\n",
    "# Si el estatus code no es 200 no se puede leer la página\n",
    "if (req.status_code != 200):\n",
    " raise Exception(\"No se puede hacer Web Scraping en\"+ URL)\n",
    "soup9 = BeautifulSoup(req9.text, 'html.parser')\n",
    "\n",
    "tags = soup9.findAll(\"h2\")\n",
    "\n",
    "for h2 in tags:\n",
    "    print(h2.text)\n",
    "    resultados.append(h2.text)"
   ]
  },
  {
   "cell_type": "markdown",
   "id": "5f734963",
   "metadata": {},
   "source": [
    "## Impresión de titulares de la sección cultura de El País"
   ]
  },
  {
   "cell_type": "code",
   "execution_count": 23,
   "id": "d6325c74",
   "metadata": {},
   "outputs": [
    {
     "name": "stdout",
     "output_type": "stream",
     "text": [
      "La segunda muerte de Vicente Aleixandre, la segunda ruina de Velintonia\n",
      "Gustavo Gimeno será el nuevo director musical del Teatro Real en 2025\n",
      "Descubierto un autorretrato de Van Gogh oculto en la parte de atrás de un lienzo fechado en 1885\n",
      "El libro que vendrá\n",
      "Fallecimiento de José Guirao: Con las alas de la cultura\n",
      "Muerte de José Guirao: Poner nombre a los árboles \t\t \n",
      "Fallecimiento de José Guirao: A tu sonrisa, Pepe\n",
      "El Bono Joven Cultural se pone en marcha a finales de julio  \n",
      "Muere el periodista Eugenio Scalfari, fundador del diario italiano ‘La Repubblica’, a los 98 años\n",
      "El cine del Sahel lucha por que se escuche su voz\n",
      "Un crimen entre plantas y aristócratas cierra la saga policiaca de José María Guelbenzu\n",
      "Donna Leon: “Los trabajadores de un almacén de Amazon son los esclavos de hoy”\n",
      "Dos generaciones de periodistas ante la crisis de la profesión: “Ningún tiempo pasado fue mejor”\n",
      "Irán encarcela a Jafar Panahi, Mohammad Rasoulof y Mostafa Al-Ahmad, tres de sus cineastas más aclamados\n",
      "La cancelación del festival Diversity deja a Valencia sin la actuación de Iggy Pop, Christina Aguilera y Karol G \n",
      "Los promotores del Hermitage de Barcelona reclaman 141 millones de euros al Ayuntamiento\n",
      "Carmen Calvo, premio Julio Gónzalez 2022: “Falta premiar a muchas mujeres”\n",
      "Cuando el teatro es XXL: ¿quién teme una obra de 13 horas?\n",
      "El Guggenheim de Bilbao afronta una ola de críticas por un cuadro idéntico a un fotograma\n",
      "Marta D. Riezu y ‘Agua y jabón’, el triunfo de lo de toda la vida\n",
      "Cuándo un gallego te dice que sí, aunque esté pensando que no. La retranca gallega y otros misterios que descubrir en el Camino Inglés\n",
      "El último atardecer de Europa se ve solo desde este lugar. Un viaje hacia el infinito por el Camino de Fisterra-Muxía\n",
      "Lorca, en la ciudad al margen\n",
      "El Pirineo oscense, para entrar a vivir\n",
      "Toda la lectura del verano, en el bolsillo\n",
      "Longsellers: los libros más vendidos a lo largo de la historia\n",
      "Libros para descubrir el mundo recomendados por Benjamín Prado\n",
      "Descubre la muestra de Paret en el Museo del Prado\n",
      "‘¡Chakapum!’, un espectáculo de El Terrat\n",
      "Disfruta en cines de 'Un escándalo de Estado'\n",
      "Descubre el 'Museo Oculto' del Reina Sofía\n",
      "Octavo encierro de San Fermín 2022, en imágenes\n",
      "Un herido leve y cinco contusiones en el octavo, rápido y último encierro de San Fermín\n",
      "La importancia de caer de pie\n",
      "Seis contusionados en un rapidísimo séptimo encierro de San Fermín\n"
     ]
    }
   ],
   "source": [
    "req10 = requests.get(\"https://elpais.com/cultura/\")\n",
    "# Si el estatus code no es 200 no se puede leer la página\n",
    "if (req.status_code != 200):\n",
    " raise Exception(\"No se puede hacer Web Scraping en\"+ URL)\n",
    "soup10 = BeautifulSoup(req10.text, 'html.parser')\n",
    "\n",
    "tags = soup10.findAll(\"h2\")\n",
    "\n",
    "for h2 in tags:\n",
    "    print(h2.text)\n",
    "    resultados.append(h2.text)"
   ]
  },
  {
   "cell_type": "markdown",
   "id": "0ac0e1a9",
   "metadata": {},
   "source": [
    "## Imprsión para la sección de Babelia de EL PAÍS"
   ]
  },
  {
   "cell_type": "code",
   "execution_count": 24,
   "id": "182c5785",
   "metadata": {},
   "outputs": [
    {
     "name": "stdout",
     "output_type": "stream",
     "text": [
      "La maternidad en imágenes: del miedo y la rabia a la aceptación\n",
      "Granito y nación: el papel de los monumentos a los caídos por Dios y por España \n",
      "Cómo el cine transformó a las diosas mitológicas en superheroínas\n",
      "Tristes, drogados, periféricos: la nueva literatura que refleja el dolor de los polígonos\n",
      "La fuga de Siberia de Trotsky, la revelación de Marta D. Riezu y otros libros de la semana\n",
      "El desvío experimental de Perfume Genius, los salmos de Nick Cave y otros discos del mes\n",
      "Jardines secretos en la jungla de asfalto: cómo resistir a la especulación plantando un árbol\n",
      "Los nuevos diaristas son vendedores de vidas\n",
      "La ‘Safo’ de Christina Rosenvinge no convence\n",
      "La gran música eleva a una compañía de danza inmadura\n",
      "Trampantojo: De veraneo\n",
      "Un clavo quita otro, quizás\n",
      "Músicas ocultas\n",
      "Lo que siento (no se olviden de Ucrania) \n",
      "No eran marcianos, eran humanos\n",
      "‘La máquina de proyectar sueños’, un retorno a la infancia delicioso y temible\n",
      "‘Veinte años de Sol’ o cómo olvidar el pasado con un implante en el cerebro\n",
      "‘La fuga de Siberia en un trineo de renos’, de Trotsky: aventuras de un comunista en plena huida \n",
      "‘Magallanes & Co.’, los preparativos y aventuras de la primera vuelta al mundo\n",
      "Silvia Agüero: “De no ser escritora habría sido vendedora ambulante”\n",
      "Antoni Muntadas: “Supe que me dedicaría al arte cuando dejé de pintar”\n",
      "Manuel Estrada: “Me agrada que una portada guste más después de leer el libro”\n",
      "Óscar Esquivias: “No hace falta ser creyente para leer la Biblia”\n",
      "Amelia Castilla: “Los ritos nos ayudan a hacer viable el trance de la muerte”\n"
     ]
    }
   ],
   "source": [
    "req11 = requests.get(\"https://elpais.com/babelia/\")\n",
    "# Si el estatus code no es 200 no se puede leer la página\n",
    "if (req.status_code != 200):\n",
    " raise Exception(\"No se puede hacer Web Scraping en\"+ URL)\n",
    "soup11 = BeautifulSoup(req11.text, 'html.parser')\n",
    "\n",
    "tags = soup11.findAll(\"h2\")\n",
    "\n",
    "for h2 in tags:\n",
    "    print(h2.text)\n",
    "    resultados.append(h2.text)"
   ]
  },
  {
   "cell_type": "markdown",
   "id": "6a0b8b12",
   "metadata": {},
   "source": [
    "## Impresión de titulares para la sección de deportes de EL PAÍS"
   ]
  },
  {
   "cell_type": "code",
   "execution_count": 25,
   "id": "9ce91615",
   "metadata": {},
   "outputs": [
    {
     "name": "stdout",
     "output_type": "stream",
     "text": [
      "Pidcock triunfa en Alpe d’Huez y Vingegaard afianza el liderato en el Tour de Francia\n",
      "Las 200 subidas más rápidas a Alpe d’Huez: solo Pantani bajó de los 37 minutos en la era del dopaje \n",
      "Xavi gana el pulso por Dembélé \n",
      "Con Tiger Woods nunca se sabe\n",
      "Las tribulaciones de Cristiano Ronaldo pasan por Qatar  \n",
      "Cuánto tarda en hervir un Tour\n",
      "El tenis es, ante todo, repetición\n",
      "Damaris Egurrola, la futbolista que se fue dos veces de España\n",
      "Saint Andrews es el golf\n",
      "El Real Madrid de baloncesto cierra su primer fichaje: Dzanan Musa\n",
      "España postula las sedes para el Mundial de fútbol de 2030\n",
      "El Mundial de Atletismo vuelve a su esencia\n",
      "Los penalti-córners de Australia condenan a España en el Mundial de hockey hierba\n",
      "Vingegaard derrota a Pogacar en la primera gran etapa del Tour de Francia\n",
      "Último día de amarillo en los Alpes para Pogacar\n",
      "Antoine Blondin: 21 curvas de tinta y épica\n",
      "Raphinha eleva la nota media del Barça\n",
      "Toma y daca por Alex Palou\n",
      "Suzuki oficializa su marcha del Mundial de MotoGP\n",
      "Aitana Bonmatí: “Tenemos que ser más exigentes”\n",
      "“Si no tenemos en quién mirarnos es muy difícil saber qué queremos ser”\n",
      "“Nunca acepto un no por respuesta”\n",
      "La nadadora que dejó de competir para hacer campeones de básquet\n",
      "Crónica de dos ciudades moldeadas por la misma pasión \n",
      "La Noruega quebrada de Hegerberg, ante el espejo\n",
      "Eurocopa femenina 2022 | España cae ante Alemania y se jugará el pase a cuartos ante Dinamarca\n",
      "Golpe de realidad para España ante Alemania\n",
      "La UEFA: “La Superliga fracasó porque los aficionados europeos aprecian el sistema actual”\n",
      "El vigor de Guélfand a los 54\n",
      "Luis León ataca, pero la etapa del Tour de Francia la gana Cort y Pogacar no suelta el amarillo\n",
      "El campeón olímpico Mo Farah revela que fue víctima de tráfico ilegal y explotación en Reino Unido\n",
      "El viaje de Jon Rahm a Saint Andrews: de la furgoneta a Seve\n"
     ]
    }
   ],
   "source": [
    "req12 = requests.get(\"https://elpais.com/deportes/\")\n",
    "# Si el estatus code no es 200 no se puede leer la página\n",
    "if (req.status_code != 200):\n",
    " raise Exception(\"No se puede hacer Web Scraping en\"+ URL)\n",
    "soup12 = BeautifulSoup(req12.text, 'html.parser')\n",
    "\n",
    "tags = soup12.findAll(\"h2\")\n",
    "\n",
    "for h2 in tags:\n",
    "    print(h2.text)\n",
    "    resultados.append(h2.text)\n"
   ]
  },
  {
   "cell_type": "markdown",
   "id": "6582588a",
   "metadata": {},
   "source": [
    "## Impresión de titulares para la sección de tecnología de EL PAÍS"
   ]
  },
  {
   "cell_type": "code",
   "execution_count": 26,
   "id": "df5e46f6",
   "metadata": {},
   "outputs": [
    {
     "name": "stdout",
     "output_type": "stream",
     "text": [
      "“Si envolvemos a nuestros hijos en algodón digital, no aprenderán a sobrellevar los problemas”\n",
      "El hidrógeno aspira a reemplazar al petróleo y el gas en el abastecimiento local de energía\n",
      "Japón, Taiwán y China: una lección democrática de los chips\n",
      "Google News está de vuelta en España: qué es y cómo exprimirlo al máximo\n",
      "Dialexis (‘mater ex machina’)\n",
      "La ingeniera que enseña a nuestro cuerpo a autorrepararse: “Hemos regenerado piel, cartílagos y vasos sanguíneos, pero todavía tenemos que hacer más”\n",
      "La inteligencia artificial de Google es capaz de aprender como un bebé\n",
      "Las activistas que dejaron sin anuncios a la web de Steve Bannon van ahora a por Fox News\n",
      "“¿Quieres cobrar tu salario en streaming?” Por qué los proyectos cripto son tan difíciles de entender\n",
      "El misterio de la carta del soldado alemán\n",
      "El porqué de los desafíos criptográficos: conocerte a ti mismo, conocer a tu enemigo\n",
      "Con el relax del verano se acentúan los peligros cibernéticos: así puede protegerse durante las vacaciones\n",
      "Meta presenta un traductor capaz de operar en tiempo real con 200 idiomas\n",
      "“Soy catedrático de informática. Como mis colegas, sé que la tecnología de bitcoin es basura”\n",
      "El sector biotecnológico supera las cifras de 2020 y capta 180 millones de euros de inversión privada\n",
      "En defensa de la procrastinación. Elogio del tiempo perdido (frente al que las redes te roban)\n",
      "Instagram, el mejor de los mundos posibles\n",
      "Del terrorismo youtuber al influencer rabioso: el odio inunda la red\n",
      "Cronodiversidad. ¿Por qué el tiempo cada vez va más rápido?\n",
      "El impacto de la tecnología en la hostelería: de la comanda digital al pago con código QR\n",
      "Herramientas que ayudan a crecer a las empresas (más allá de los pagos)\n",
      "Cinco razones por las que este ‘smartphone’ es sencillamente tentador\n",
      "La cámara de este ‘smartphone’ es pura magia\n",
      "Ciberseguridad para todos los públicos, en siete capítulos\n",
      "Un campus de programación para adquirir todas las habilidades ‘tech’\n"
     ]
    }
   ],
   "source": [
    "req13 = requests.get(\"https://elpais.com/tecnologia/\")\n",
    "# Si el estatus code no es 200 no se puede leer la página\n",
    "if (req.status_code != 200):\n",
    " raise Exception(\"No se puede hacer Web Scraping en\"+ URL)\n",
    "soup13 = BeautifulSoup(req13.text, 'html.parser')\n",
    "\n",
    "tags = soup13.findAll(\"h2\")\n",
    "\n",
    "for h2 in tags:\n",
    "    print(h2.text)\n",
    "    resultados.append(h2.text)"
   ]
  },
  {
   "cell_type": "markdown",
   "id": "3e044b1a",
   "metadata": {},
   "source": [
    "## Impresión de la sección de titulares para la sección gente de EL PAÍS"
   ]
  },
  {
   "cell_type": "code",
   "execution_count": 28,
   "id": "ddc2bf34",
   "metadata": {},
   "outputs": [
    {
     "name": "stdout",
     "output_type": "stream",
     "text": [
      "Armie Hammer, de estrella de Hollywood y acusaciones caníbales a vender multipropiedades en las islas Caimán\n",
      "Ana de Armas y el prejuicio latino: “Creí que era una joven poco sofisticada”, reconoce sobre ella Jamie Lee Curtis\n",
      "Khloé Kardashian espera su segundo hijo con su expareja, Tristan Thompson, por vientre de alquiler\n",
      "Kate Moss vuelve a ser musa de Zara: la modelo llena de glamur y nocturnidad la última campaña de la firma\n",
      "Edurne cancela su gira por un problema de salud\n",
      "Aurelio Morales, el hombre que dejó una estrella Michelin para tomar impulso y ganar tres\n",
      "Deslenguada y cazafortunas: reivindicando a la primera Barbie de la historia en tiempos de ‘Barbiecore’\n",
      "Mickey Rourke, sobre Tom Cruise: “Lleva interpretando el mismo papel 35 años. No le tengo respeto”\n",
      "Christian Louboutin: “Llevo 30 años haciendo zapatos de tacón para hombres. La moda sin género no es algo nuevo para mí”\n",
      "Jason Alexander se declara no culpable de acechar a Britney Spears tras irrumpir en su boda y se enfrenta a cinco años de cárcel\n",
      "Charlene de Mónaco, guía turística en el palacio real de Montecarlo\n",
      "La DJ B Jones, de las noches en la carretera al olimpo de la música electrónica: “Ahora somos el centro de la fiesta” \n",
      "Marilyn Monroe hizo ricos a muchos hombres mientras se empobrecía: “No tuvo ni para un funeral decente”\n",
      "La cumbre de la alpargata\n",
      "Pietro Beccari: “El desfile de Sevilla es uno de los mejores, si no el mejor, que ha hecho Maria Grazia Chiuri en Dior”\n",
      "El espectáculo (teatral) debe continuar en la alta costura de París\n",
      "Realismo, entretenimiento y democracia: la alta costura se deshace por fin de sus estereotipos en París\n",
      "Nostalgia ‘retro’, punto multicolor y otras pistas para vestir este verano\n",
      "La cocinera que trasladó las flores del jarrón al plato\n",
      "En verano, el mejor queso del mundo se hace helado\n",
      "El placer de lo rancio y otros gustos y aromas que recuerdan la niñez\n",
      "Trece aperitivos\n"
     ]
    }
   ],
   "source": [
    "req15 = requests.get(\"https://elpais.com/gente/\")\n",
    "# Si el estatus code no es 200 no se puede leer la página\n",
    "if (req.status_code != 200):\n",
    " raise Exception(\"No se puede hacer Web Scraping en\"+ URL)\n",
    "soup15 = BeautifulSoup(req15.text, 'html.parser')\n",
    "\n",
    "tags = soup15.findAll(\"h2\")\n",
    "\n",
    "for h2 in tags:\n",
    "    print(h2.text)\n",
    "    resultados.append(h2.text)"
   ]
  },
  {
   "cell_type": "markdown",
   "id": "573686d8",
   "metadata": {},
   "source": [
    "## Impresión de titulares para la sección EPS de EL PAÍS"
   ]
  },
  {
   "cell_type": "code",
   "execution_count": 29,
   "id": "356a909a",
   "metadata": {},
   "outputs": [
    {
     "name": "stdout",
     "output_type": "stream",
     "text": [
      "No hacerlo todo juntos: claves para que agosto no se convierta en el mes de los divorcios\n",
      "El multigalardonado director de fotografía que consiguió trabajo en la cola de un cine \n",
      "Un servicio médico en cualquier lugar y momento\n",
      "Andaluz no: ‘Andalûh’\n",
      "Carme Elías: “Me siento más ligera que nunca, como si la vida me hubiera preparado para este momento”\n",
      "El resurgir del turismo\n",
      "Orgullo con todas las letras\n",
      "El restaurante madrileño en el que la cocina gaditana y la francesa se enamoraron\n",
      "¿Dónde está exactamente el origen del mal?\n",
      "Las heridas abiertas de la infancia en Irak\n",
      "Pietro Beccari: “El desfile de Sevilla es uno de los mejores, si no el mejor, que ha hecho Maria Grazia Chiuri en Dior”\n",
      "El hombre que persigue la gaita más antigua del mundo\n",
      "La uva más denostada de  Castilla-La Mancha resurge de sus cenizas\n",
      "Hyundai Ioniq 6: la tecnología al servicio del automóvil\n",
      "El engaño a los ojos\n",
      "Reír a lágrima viva\n",
      "Las fiestas de la sangre\n",
      "Libros sin Feria\n",
      "Harina enriquecida para acabar con el “hambre oculta”\n",
      "Lugares de esperanza para salvar los océanos\n",
      "Los guardianes del clima que llevan medio siglo leyendo las advertencias de los glaciares\n",
      "Epidemia de violencia: claves del negocio de las armas en Estados Unidos\n",
      "Los ejecutivos voladores y la ética medioambiental\n",
      "Ibiza, entre la noche desenfrenada y el turismo tranquilo \n",
      "Luz Casal: “Tengo el alma rockera. Nada ha doblegado mi rebeldía”\n",
      "Rashid Johnson: “Los pensadores y creadores negros estamos cansados de que nos nieguen un espacio autónomo”\n",
      "Sergio Hernández: “En el mundo, la gente ya no quiere verdades, quiere mentiras”\n",
      "Elvira Sastre: “No hay que perdonarlo todo”\n",
      "La trinidad del taco perfecto: “Buena tortilla, delicioso relleno y una salsa sabrosa”\n",
      "La casa de Nina Urgell Cloquell, un piso en el que las paredes hablan\n",
      "Garbanzos verdes y puchero\n",
      "Bikôkô y Julio Peña, dos estrellas en ebullición  \n",
      "Cuando Chufy encontró a Rossy: dos amigas, una isla y una colección de moda\n",
      "República Dominicana, donde la vida fluye por el río infinito\n",
      "Retrato Robot \n",
      "Ilusiones hipnóticas\n",
      "El poder del hormigón\n",
      "‘Fantasías en el Prado’, por Alberto García-Alix\n"
     ]
    }
   ],
   "source": [
    "req17 = requests.get(\"https://elpais.com/eps/\")\n",
    "# Si el estatus code no es 200 no se puede leer la página\n",
    "if (req.status_code != 200):\n",
    " raise Exception(\"No se puede hacer Web Scraping en\"+ URL)\n",
    "soup17 = BeautifulSoup(req17.text, 'html.parser')\n",
    "\n",
    "tags = soup17.findAll(\"h2\")\n",
    "\n",
    "for h2 in tags:\n",
    "    print(h2.text)\n",
    "    resultados.append(h2.text)"
   ]
  },
  {
   "cell_type": "markdown",
   "id": "80d6ecbe",
   "metadata": {},
   "source": [
    "## Titulares con las palabras más buscadas"
   ]
  },
  {
   "cell_type": "markdown",
   "id": "1cea25af",
   "metadata": {},
   "source": [
    "En esta parte usaremos os.system(clear) para se haga una limpieza después de realizar el web scrapping."
   ]
  },
  {
   "cell_type": "code",
   "execution_count": 30,
   "id": "94cd4989",
   "metadata": {},
   "outputs": [
    {
     "data": {
      "text/plain": [
       "1"
      ]
     },
     "execution_count": 30,
     "metadata": {},
     "output_type": "execute_result"
    }
   ],
   "source": [
    "os.system(\"clear\")"
   ]
  },
  {
   "cell_type": "code",
   "execution_count": 31,
   "id": "a5c94293",
   "metadata": {},
   "outputs": [
    {
     "name": "stdout",
     "output_type": "stream",
     "text": [
      "\u001b[1m\u001b[34mA continuación se muestran los titulares de las páginas principales del diario El País que contienen las siguientes palabras:\u001b[0m\n",
      "\u001b[1m\u001b[32mFeminismo\u001b[0m\n",
      "\n",
      "\u001b[1m\u001b[32mIgualdad\u001b[0m\n",
      "La escuela concertada ante las desigualdades: el debate pendiente\n",
      "El caso de Georgia, en EE UU: becar sin importar la renta agranda la desigualdad\n",
      "\u001b[1m\u001b[32mMujeres\u001b[0m\n",
      "Róisín Murphy: “Los gays entienden la opresión de las mujeres. No se detienen ante nada”\n",
      "Carmen Calvo, premio Julio Gónzalez 2022: “Falta premiar a muchas mujeres”\n",
      "\u001b[1m\u001b[32mMujer\u001b[0m\n",
      "Aumentan a tres los detenidos por la muerte de la mujer arrojada a una alcantarilla en Málaga\n",
      "Róisín Murphy: “Los gays entienden la opresión de las mujeres. No se detienen ante nada”\n",
      "La Comunidad de Madrid quiere cobrar 400 euros a una mujer por el tiempo que dejó la residencia para irse con sus hijas\n",
      "Aumentan a tres los detenidos por la muerte de la mujer arrojada a una alcantarilla en Málaga\n",
      "Carmen Calvo, premio Julio Gónzalez 2022: “Falta premiar a muchas mujeres”\n",
      "\u001b[1m\u001b[32mBrecha salarial\u001b[0m\n",
      "\n",
      "\u001b[1m\u001b[32mMachismo\u001b[0m\n",
      "\n",
      "\u001b[1m\u001b[32mViolencia\u001b[0m\n",
      "Epidemia de violencia: claves del negocio de las armas en Estados Unidos\n",
      "\u001b[1m\u001b[32mMaltrato\u001b[0m\n",
      "\n",
      "\u001b[1m\u001b[32mHomicidio\u001b[0m\n",
      "Los homicidios en Chile escalan casi un 30% en el primer semestre de 2022\n",
      "\u001b[1m\u001b[32mGénero\u001b[0m\n",
      "Louboutin: “Llevo 30 años haciendo zapatos de tacón para hombres. La moda sin género no es nueva para mí”\n",
      "Christian Louboutin: “Llevo 30 años haciendo zapatos de tacón para hombres. La moda sin género no es algo nuevo para mí”\n",
      "\u001b[1m\u001b[32mAsesinato\u001b[0m\n",
      "\n",
      "\u001b[1m\u001b[32mSexo\u001b[0m\n",
      "\n"
     ]
    }
   ],
   "source": [
    "print(colored(\"A continuación se muestran los titulares de las páginas principales del diario El País que contienen las siguientes palabras:\", 'blue', attrs=['bold']))\n",
    "print(colored(\"Feminismo\", 'green', attrs=['bold']))\n",
    "\n",
    "str_match = [s for s in resultados if \"feminismo\" in s]\n",
    "print(\"\\n\".join(str_match))\n",
    "\n",
    "print(colored(\"Igualdad\", 'green', attrs=['bold']))\n",
    "\n",
    "str_match = [s for s in resultados if \"igualdad\" in s]\n",
    "print(\"\\n\".join(str_match))\n",
    "\n",
    "print(colored(\"Mujeres\", 'green', attrs=['bold']))\n",
    "\n",
    "str_match = [s for s in resultados if \"mujeres\" in s]\n",
    "print(\"\\n\".join(str_match))\n",
    "\n",
    "print(colored(\"Mujer\", 'green', attrs=['bold']))\n",
    "\n",
    "str_match = [s for s in resultados if \"mujer\" in s]\n",
    "print(\"\\n\".join(str_match))\n",
    "\n",
    "print(colored(\"Brecha salarial\", 'green', attrs=['bold']))\n",
    "\n",
    "str_match = [s for s in resultados if \"brecha salarial\" in s]\n",
    "print(\"\\n\".join(str_match))\n",
    "\n",
    "print(colored(\"Machismo\", 'green', attrs=['bold']))\n",
    "\n",
    "str_match = [s for s in resultados if \"machismo\" in s]\n",
    "print(\"\\n\".join(str_match))\n",
    "\n",
    "print(colored(\"Violencia\", 'green', attrs=['bold']))\n",
    "\n",
    "str_match = [s for s in resultados if \"violencia\" in s]\n",
    "print(\"\\n\".join(str_match))\n",
    "\n",
    "print(colored(\"Maltrato\", 'green', attrs=['bold']))\n",
    "\n",
    "str_match = [s for s in resultados if \"maltrato\" in s]\n",
    "print(\"\\n\".join(str_match))\n",
    "\n",
    "print(colored(\"Homicidio\", 'green', attrs=['bold']))\n",
    "\n",
    "str_match = [s for s in resultados if \"homicidio\" in s]\n",
    "print(\"\\n\".join(str_match))\n",
    "\n",
    "print(colored(\"Género\", 'green', attrs=['bold']))\n",
    "\n",
    "str_match = [s for s in resultados if \"género\" in s]\n",
    "print(\"\\n\".join(str_match))\n",
    "\n",
    "print(colored(\"Asesinato\", 'green', attrs=['bold']))\n",
    "\n",
    "str_match = [s for s in resultados if \"asesinato\" in s]\n",
    "print(\"\\n\".join(str_match))\n",
    "\n",
    "print(colored(\"Sexo\", 'green', attrs=['bold']))\n",
    "\n",
    "str_match = [s for s in resultados if \"sexo\" in s]\n",
    "print(\"\\n\".join(str_match))\n"
   ]
  },
  {
   "cell_type": "markdown",
   "id": "dba9a83c",
   "metadata": {},
   "source": [
    "## Conclusión"
   ]
  },
  {
   "cell_type": "markdown",
   "id": "a13a1c29",
   "metadata": {},
   "source": [
    "Con la ayuda de la web scraping  podemos obtener información de forma sencilla. Este sistema automatia los sitios webs y nos permite ahorrar tiempo invertido en nuestras búsquedas y obtención de datos. Como hemos podido observar el ejemplo con el diario El País, hemos logrado obtener de forma precisa datos e información adecuada automáticamente bajo un sistema de códigos.\n",
    "La idea de utilizar estas herramientas es automatizar la búsqueda y crear un sistema de códigos  fuente para acortar tiempo. Lo complejo es comprender el uso de los códigos, cuándo y cómo emplearlos."
   ]
  }
 ],
 "metadata": {
  "kernelspec": {
   "display_name": "Python 3 (ipykernel)",
   "language": "python",
   "name": "python3"
  },
  "language_info": {
   "codemirror_mode": {
    "name": "ipython",
    "version": 3
   },
   "file_extension": ".py",
   "mimetype": "text/x-python",
   "name": "python",
   "nbconvert_exporter": "python",
   "pygments_lexer": "ipython3",
   "version": "3.9.12"
  }
 },
 "nbformat": 4,
 "nbformat_minor": 5
}
